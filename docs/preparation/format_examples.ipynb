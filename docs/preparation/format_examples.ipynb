{
 "cells": [
  {
   "cell_type": "markdown",
   "id": "acca2643",
   "metadata": {},
   "source": [
    "# gJGF"
   ]
  },
  {
   "cell_type": "code",
   "execution_count": null,
   "id": "24cfb410",
   "metadata": {},
   "outputs": [],
   "source": [
    "import gravis as gv"
   ]
  },
  {
   "cell_type": "code",
   "execution_count": null,
   "id": "621a1f75",
   "metadata": {},
   "outputs": [],
   "source": [
    "data = {\n",
    "    'graph': {\n",
    "      'directed': False,\n",
    "      'nodes': {\n",
    "        1: {},\n",
    "        2: {},\n",
    "        3: {},\n",
    "      },\n",
    "      'edges': [\n",
    "        {'source': 1, 'target': 2},\n",
    "        {'source': 2, 'target': 3},\n",
    "      ]\n",
    "    }\n",
    "  }\n",
    "\n",
    "import json\n",
    "print(json.dumps(data, indent=2))\n",
    "gv.d3(data)"
   ]
  },
  {
   "cell_type": "code",
   "execution_count": null,
   "id": "b704de97",
   "metadata": {},
   "outputs": [],
   "source": [
    "data = {\n",
    "    'graph': {\n",
    "      'directed': False,\n",
    "      'nodes': {\n",
    "        1: {},\n",
    "        2: {},\n",
    "        3: {},\n",
    "      },\n",
    "      'edges': [\n",
    "        {'source': 1, 'target': 2},\n",
    "        {'source': 2, 'target': 3},\n",
    "      ]\n",
    "    }\n",
    "  }\n",
    "\n",
    "import json\n",
    "\n",
    "gv.d3(data)"
   ]
  }
 ],
 "metadata": {
  "kernelspec": {
   "display_name": "Python 3 (ipykernel)",
   "language": "python",
   "name": "python3"
  },
  "language_info": {
   "codemirror_mode": {
    "name": "ipython",
    "version": 3
   },
   "file_extension": ".py",
   "mimetype": "text/x-python",
   "name": "python",
   "nbconvert_exporter": "python",
   "pygments_lexer": "ipython3",
   "version": "3.7.12"
  }
 },
 "nbformat": 4,
 "nbformat_minor": 5
}
