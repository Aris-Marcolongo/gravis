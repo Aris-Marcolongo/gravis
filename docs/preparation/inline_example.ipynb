{
 "cells": [
  {
   "cell_type": "code",
   "execution_count": null,
   "id": "ca94ac76",
   "metadata": {},
   "outputs": [],
   "source": [
    "import igraph as ig\n",
    "import gravis as gv\n",
    "import networkx as nx\n",
    "\n",
    "graph = {'graph': {'nodes': {'A': {}, 'B': {}}, 'edges': [{'source': 'A', 'target': 'B'}]}}\n",
    "fig = gv.vis(graph)\n",
    "fig.display()\n",
    "\n",
    "graph = nx.powerlaw_cluster_graph(n=120, m=2, p=0.95)\n",
    "fig = gv.three(graph)\n",
    "fig.export_html('powerlaw_cluster.html')\n",
    "\n",
    "graph = ig.Graph.Forest_Fire(120, 0.15)\n",
    "fig = gv.d3(graph, zoom_factor=0.25)\n",
    "fig.export_svg('forest_fire.svg')"
   ]
  }
 ],
 "metadata": {
  "kernelspec": {
   "display_name": "Python 3 (ipykernel)",
   "language": "python",
   "name": "python3"
  },
  "language_info": {
   "codemirror_mode": {
    "name": "ipython",
    "version": 3
   },
   "file_extension": ".py",
   "mimetype": "text/x-python",
   "name": "python",
   "nbconvert_exporter": "python",
   "pygments_lexer": "ipython3",
   "version": "3.7.12"
  }
 },
 "nbformat": 4,
 "nbformat_minor": 5
}
